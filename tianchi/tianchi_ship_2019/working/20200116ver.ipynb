{
 "cells": [
  {
   "cell_type": "code",
   "execution_count": 1,
   "metadata": {},
   "outputs": [],
   "source": [
    "import datetime\n",
    "import gc\n",
    "import math\n",
    "import os\n",
    "\n",
    "import lightgbm as lgb\n",
    "import numpy as np\n",
    "import pandas as pd\n",
    "import matplotlib.pyplot as plt\n",
    "import seaborn as sns\n",
    "from sklearn import metrics\n",
    "from tqdm.notebook import tqdm"
   ]
  },
  {
   "cell_type": "code",
   "execution_count": 17,
   "metadata": {},
   "outputs": [],
   "source": [
    "#显示所有列\n",
    "pd.set_option('display.max_columns', None)\n",
    "#显示所有行\n",
    "pd.set_option('display.max_rows', 20)\n",
    "#设置value的显示长度为100，默认为50\n",
    "pd.set_option('max_colwidth',100)"
   ]
  },
  {
   "cell_type": "markdown",
   "metadata": {},
   "source": [
    "## 拼接文件"
   ]
  },
  {
   "cell_type": "code",
   "execution_count": 2,
   "metadata": {},
   "outputs": [],
   "source": [
    "new_train_path = '../../input/train_time'\n",
    "new_test_path = '../../input/test_time'\n",
    "\n",
    "new_train_files = os.listdir(new_train_path)\n",
    "new_test_files = os.listdir(new_test_path)"
   ]
  },
  {
   "cell_type": "code",
   "execution_count": 4,
   "metadata": {},
   "outputs": [
    {
     "data": {
      "application/vnd.jupyter.widget-view+json": {
       "model_id": "1c91c19be5944df38f93a11b192a61ba",
       "version_major": 2,
       "version_minor": 0
      },
      "text/plain": [
       "HBox(children=(FloatProgress(value=0.0, max=7000.0), HTML(value='')))"
      ]
     },
     "metadata": {},
     "output_type": "display_data"
    },
    {
     "name": "stdout",
     "output_type": "stream",
     "text": [
      "\n"
     ]
    }
   ],
   "source": [
    "ret = []\n",
    "for file in tqdm(new_train_files):\n",
    "    df_train = pd.read_csv(f'{new_train_path}/{file}')\n",
    "    df_train = df_train.drop_duplicates(['x', 'y'], keep='last')\n",
    "    ret.append(df_train) \n",
    "df_train = pd.concat(ret)\n",
    "df_train.to_hdf('../../input/train_id_all.h5', 'df', mode='w')"
   ]
  },
  {
   "cell_type": "code",
   "execution_count": 5,
   "metadata": {},
   "outputs": [
    {
     "data": {
      "text/plain": [
       "64"
      ]
     },
     "execution_count": 5,
     "metadata": {},
     "output_type": "execute_result"
    }
   ],
   "source": [
    "del ret\n",
    "gc.collect()"
   ]
  },
  {
   "cell_type": "code",
   "execution_count": 6,
   "metadata": {},
   "outputs": [
    {
     "data": {
      "application/vnd.jupyter.widget-view+json": {
       "model_id": "a23d29156cc048c584ce74db7484ce70",
       "version_major": 2,
       "version_minor": 0
      },
      "text/plain": [
       "HBox(children=(FloatProgress(value=0.0, max=2000.0), HTML(value='')))"
      ]
     },
     "metadata": {},
     "output_type": "display_data"
    },
    {
     "name": "stdout",
     "output_type": "stream",
     "text": [
      "\n"
     ]
    }
   ],
   "source": [
    "ret = []\n",
    "for file in tqdm(new_test_files):\n",
    "    df_test = pd.read_csv(f'{new_test_path}/{file}')\n",
    "    ret.append(df_test)\n",
    "df_test = pd.concat(ret)\n",
    "df_test.to_hdf('../../input/test_id_all.h5', 'df', mode='w')"
   ]
  },
  {
   "cell_type": "code",
   "execution_count": 7,
   "metadata": {},
   "outputs": [
    {
     "data": {
      "text/plain": [
       "64"
      ]
     },
     "execution_count": 7,
     "metadata": {},
     "output_type": "execute_result"
    }
   ],
   "source": [
    "del ret\n",
    "gc.collect()"
   ]
  },
  {
   "cell_type": "markdown",
   "metadata": {},
   "source": [
    "## 读取文件"
   ]
  },
  {
   "cell_type": "code",
   "execution_count": 8,
   "metadata": {},
   "outputs": [],
   "source": [
    "# 读取文件\n",
    "df_train = pd.read_hdf('../../input/train_id_all.h5')\n",
    "df_test = pd.read_hdf('../../input/test_id_all.h5')"
   ]
  },
  {
   "cell_type": "code",
   "execution_count": 9,
   "metadata": {},
   "outputs": [
    {
     "data": {
      "text/plain": [
       "(1173557, 120)"
      ]
     },
     "execution_count": 9,
     "metadata": {},
     "output_type": "execute_result"
    }
   ],
   "source": [
    "df_train.shape"
   ]
  },
  {
   "cell_type": "code",
   "execution_count": 10,
   "metadata": {},
   "outputs": [
    {
     "data": {
      "text/plain": [
       "(782378, 119)"
      ]
     },
     "execution_count": 10,
     "metadata": {},
     "output_type": "execute_result"
    }
   ],
   "source": [
    "df_test.shape"
   ]
  },
  {
   "cell_type": "code",
   "execution_count": 12,
   "metadata": {},
   "outputs": [],
   "source": [
    "df_train = df_train.drop(['Unnamed: 0'], axis=1)\n",
    "df_test = df_test.drop(['Unnamed: 0'], axis=1)"
   ]
  },
  {
   "cell_type": "code",
   "execution_count": 13,
   "metadata": {},
   "outputs": [
    {
     "data": {
      "text/html": [
       "<div>\n",
       "<style scoped>\n",
       "    .dataframe tbody tr th:only-of-type {\n",
       "        vertical-align: middle;\n",
       "    }\n",
       "\n",
       "    .dataframe tbody tr th {\n",
       "        vertical-align: top;\n",
       "    }\n",
       "\n",
       "    .dataframe thead th {\n",
       "        text-align: right;\n",
       "    }\n",
       "</style>\n",
       "<table border=\"1\" class=\"dataframe\">\n",
       "  <thead>\n",
       "    <tr style=\"text-align: right;\">\n",
       "      <th></th>\n",
       "      <th>渔船ID</th>\n",
       "      <th>x</th>\n",
       "      <th>y</th>\n",
       "      <th>速度</th>\n",
       "      <th>方向</th>\n",
       "      <th>time</th>\n",
       "      <th>type</th>\n",
       "      <th>sin_angle</th>\n",
       "      <th>cos_angle</th>\n",
       "      <th>month</th>\n",
       "      <th>...</th>\n",
       "      <th>long_stop_1000_count</th>\n",
       "      <th>long_stop_600_count</th>\n",
       "      <th>long_stop_1000_rate</th>\n",
       "      <th>long_stop_600_rate</th>\n",
       "      <th>short_report_count</th>\n",
       "      <th>short_report_rete</th>\n",
       "      <th>no_move_distance_count</th>\n",
       "      <th>no_move_distance_rate</th>\n",
       "      <th>daytime_count</th>\n",
       "      <th>daytime_rate</th>\n",
       "    </tr>\n",
       "  </thead>\n",
       "  <tbody>\n",
       "    <tr>\n",
       "      <th>0</th>\n",
       "      <td>0</td>\n",
       "      <td>6.152038e+06</td>\n",
       "      <td>5.124873e+06</td>\n",
       "      <td>2.59</td>\n",
       "      <td>102</td>\n",
       "      <td>1900-11-10 11:58:19</td>\n",
       "      <td>拖网</td>\n",
       "      <td>0.978148</td>\n",
       "      <td>-0.207912</td>\n",
       "      <td>11</td>\n",
       "      <td>...</td>\n",
       "      <td>18</td>\n",
       "      <td>80</td>\n",
       "      <td>0.043478</td>\n",
       "      <td>0.193237</td>\n",
       "      <td>2</td>\n",
       "      <td>0.004831</td>\n",
       "      <td>391</td>\n",
       "      <td>0.944444</td>\n",
       "      <td>228</td>\n",
       "      <td>0.550725</td>\n",
       "    </tr>\n",
       "    <tr>\n",
       "      <th>1</th>\n",
       "      <td>0</td>\n",
       "      <td>6.151230e+06</td>\n",
       "      <td>5.125218e+06</td>\n",
       "      <td>2.70</td>\n",
       "      <td>113</td>\n",
       "      <td>1900-11-10 11:48:19</td>\n",
       "      <td>拖网</td>\n",
       "      <td>0.920505</td>\n",
       "      <td>-0.390731</td>\n",
       "      <td>11</td>\n",
       "      <td>...</td>\n",
       "      <td>18</td>\n",
       "      <td>80</td>\n",
       "      <td>0.043478</td>\n",
       "      <td>0.193237</td>\n",
       "      <td>2</td>\n",
       "      <td>0.004831</td>\n",
       "      <td>391</td>\n",
       "      <td>0.944444</td>\n",
       "      <td>228</td>\n",
       "      <td>0.550725</td>\n",
       "    </tr>\n",
       "    <tr>\n",
       "      <th>2</th>\n",
       "      <td>0</td>\n",
       "      <td>6.150421e+06</td>\n",
       "      <td>5.125563e+06</td>\n",
       "      <td>2.70</td>\n",
       "      <td>116</td>\n",
       "      <td>1900-11-10 11:38:19</td>\n",
       "      <td>拖网</td>\n",
       "      <td>0.898794</td>\n",
       "      <td>-0.438371</td>\n",
       "      <td>11</td>\n",
       "      <td>...</td>\n",
       "      <td>18</td>\n",
       "      <td>80</td>\n",
       "      <td>0.043478</td>\n",
       "      <td>0.193237</td>\n",
       "      <td>2</td>\n",
       "      <td>0.004831</td>\n",
       "      <td>391</td>\n",
       "      <td>0.944444</td>\n",
       "      <td>228</td>\n",
       "      <td>0.550725</td>\n",
       "    </tr>\n",
       "  </tbody>\n",
       "</table>\n",
       "<p>3 rows × 119 columns</p>\n",
       "</div>"
      ],
      "text/plain": [
       "   渔船ID             x             y    速度   方向                 time type  \\\n",
       "0     0  6.152038e+06  5.124873e+06  2.59  102  1900-11-10 11:58:19   拖网   \n",
       "1     0  6.151230e+06  5.125218e+06  2.70  113  1900-11-10 11:48:19   拖网   \n",
       "2     0  6.150421e+06  5.125563e+06  2.70  116  1900-11-10 11:38:19   拖网   \n",
       "\n",
       "   sin_angle  cos_angle  month  ...  long_stop_1000_count  \\\n",
       "0   0.978148  -0.207912     11  ...                    18   \n",
       "1   0.920505  -0.390731     11  ...                    18   \n",
       "2   0.898794  -0.438371     11  ...                    18   \n",
       "\n",
       "   long_stop_600_count  long_stop_1000_rate  long_stop_600_rate  \\\n",
       "0                   80             0.043478            0.193237   \n",
       "1                   80             0.043478            0.193237   \n",
       "2                   80             0.043478            0.193237   \n",
       "\n",
       "   short_report_count  short_report_rete  no_move_distance_count  \\\n",
       "0                   2           0.004831                     391   \n",
       "1                   2           0.004831                     391   \n",
       "2                   2           0.004831                     391   \n",
       "\n",
       "   no_move_distance_rate  daytime_count  daytime_rate  \n",
       "0               0.944444            228      0.550725  \n",
       "1               0.944444            228      0.550725  \n",
       "2               0.944444            228      0.550725  \n",
       "\n",
       "[3 rows x 119 columns]"
      ]
     },
     "execution_count": 13,
     "metadata": {},
     "output_type": "execute_result"
    }
   ],
   "source": [
    "df_train.head(3)"
   ]
  },
  {
   "cell_type": "code",
   "execution_count": 14,
   "metadata": {},
   "outputs": [],
   "source": [
    "def drop_unnecessary_col(df):\n",
    "    unneccessary = [# 'x', 'y', 'time', '速度', 'time',  # 结束时候的原始数据\n",
    "                    'time',\n",
    "                    'sin_angle', 'cos_angle',\n",
    "                    'month', 'day', 'hour', 'minute', 'second', 'time_past_sec', 'time_step_sec',\n",
    "                    'x_past', 'y_past', 'x_step', 'y_step', \n",
    "                    'xy_distance_step', 'xy_velocity_step', \n",
    "                    'sin_hour', 'cos_hour', \n",
    "                    'sin_minute', 'cos_minute',\n",
    "                    'sin_second', 'cos_second',\n",
    "                    # 'x_max', 'x_min', 'x_mean', 'x_median', 'x_std', 'x_skew', 'x_mode',\n",
    "                    # 'y_max', 'y_min', 'y_mean', 'y_median', 'y_std', 'y_skew', 'y_mode', \n",
    "                    'day_max', 'day_min', 'day_mean', 'day_median', 'day_std', 'day_skew', 'day_mode',\n",
    "                    #'速度_max', '速度_min', '速度_mean', '速度_median', '速度_std', '速度_skew', '速度_mode',\n",
    "                    'xy_velocity_step_max', 'xy_velocity_step_min', \n",
    "                    'xy_velocity_step_mean', \n",
    "                    'xy_velocity_step_median', 'xy_velocity_step_std', 'xy_velocity_step_skew', 'xy_velocity_step_mode',\n",
    "                    'xy_distance_step_max', 'xy_distance_step_min', \n",
    "                    'xy_distance_step_mean', \n",
    "                    'xy_distance_step_median', 'xy_distance_step_std', 'xy_distance_step_skew', 'xy_distance_step_mode',\n",
    "                    'time_step_sec_max', \n",
    "                    'time_step_sec_min', \n",
    "                    'time_step_sec_mean', \n",
    "                    'time_step_sec_median', 'time_step_sec_std', 'time_step_sec_skew', 'time_step_sec_mode',\n",
    "                    'x_step_max', \n",
    "                    'x_step_min', \n",
    "                    'x_step_mean', 'x_step_median', 'x_step_std', 'x_step_skew', 'x_step_mode', \n",
    "                    'y_step_max', \n",
    "                    'y_step_min', \n",
    "                    'y_step_mean', 'y_step_median', 'y_step_std', 'y_step_skew', 'y_step_mode', \n",
    "                    'sin_angle_max','sin_angle_min', 'sin_angle_mean', 'sin_angle_median', 'sin_angle_std', 'sin_angle_skew', 'sin_angle_mode',\n",
    "                    'cos_angle_max','cos_angle_min', 'cos_angle_mean', 'cos_angle_median', 'cos_angle_std', 'cos_angle_skew', 'cos_angle_mode',\n",
    "                    'day_past',\n",
    "                    'x_past_max', 'y_past_max', \n",
    "                    'square_area', \n",
    "                    'long_stop_1000_count', \n",
    "                    'long_stop_1000_rate', \n",
    "                    'long_stop_600_count', \n",
    "                    'long_stop_600_rate',\n",
    "                    'short_report_count', 'short_report_rete',\n",
    "                    'no_move_distance_count', \n",
    "                    'no_move_distance_rate',\n",
    "                    'daytime_count', \n",
    "                    'daytime_rate',\n",
    "                    ]\n",
    "    df = df.drop(unneccessary, axis=1)\n",
    "    \n",
    "    return df"
   ]
  },
  {
   "cell_type": "code",
   "execution_count": 15,
   "metadata": {},
   "outputs": [],
   "source": [
    "df_train_clean = drop_unnecessary_col(df_train.copy())\n",
    "df_test_clean = drop_unnecessary_col(df_test.copy())"
   ]
  },
  {
   "cell_type": "code",
   "execution_count": null,
   "metadata": {},
   "outputs": [],
   "source": [
    "df_train_clean = df_train.drop_duplicates('渔船ID')"
   ]
  },
  {
   "cell_type": "markdown",
   "metadata": {},
   "source": [
    "### 训练"
   ]
  },
  {
   "cell_type": "code",
   "execution_count": 19,
   "metadata": {},
   "outputs": [],
   "source": [
    "import xgboost as xgb\n",
    "from sklearn.model_selection import train_test_split\n",
    "from sklearn.model_selection import StratifiedKFold\n",
    "from sklearn.metrics import f1_score\n",
    "from sklearn import preprocessing"
   ]
  },
  {
   "cell_type": "code",
   "execution_count": 20,
   "metadata": {},
   "outputs": [],
   "source": [
    "label_dict = {\"拖网\": 0,\n",
    "             \"围网\": 1,\n",
    "             \"刺网\": 2}\n",
    "\n",
    "df_train_clean['type'] = df_train_clean['type'].apply(lambda x: label_dict[x])"
   ]
  },
  {
   "cell_type": "code",
   "execution_count": 22,
   "metadata": {},
   "outputs": [],
   "source": [
    "df_train_clean = df_train_clean.drop_duplicates(['x', 'y'], keep='last')"
   ]
  },
  {
   "cell_type": "code",
   "execution_count": 23,
   "metadata": {},
   "outputs": [
    {
     "data": {
      "text/html": [
       "<div>\n",
       "<style scoped>\n",
       "    .dataframe tbody tr th:only-of-type {\n",
       "        vertical-align: middle;\n",
       "    }\n",
       "\n",
       "    .dataframe tbody tr th {\n",
       "        vertical-align: top;\n",
       "    }\n",
       "\n",
       "    .dataframe thead th {\n",
       "        text-align: right;\n",
       "    }\n",
       "</style>\n",
       "<table border=\"1\" class=\"dataframe\">\n",
       "  <thead>\n",
       "    <tr style=\"text-align: right;\">\n",
       "      <th></th>\n",
       "      <th>渔船ID</th>\n",
       "      <th>x</th>\n",
       "      <th>y</th>\n",
       "      <th>速度</th>\n",
       "      <th>方向</th>\n",
       "      <th>type</th>\n",
       "      <th>x_max</th>\n",
       "      <th>x_min</th>\n",
       "      <th>x_mean</th>\n",
       "      <th>x_median</th>\n",
       "      <th>x_std</th>\n",
       "      <th>x_skew</th>\n",
       "      <th>x_mode</th>\n",
       "      <th>y_max</th>\n",
       "      <th>y_min</th>\n",
       "      <th>y_mean</th>\n",
       "      <th>y_median</th>\n",
       "      <th>y_std</th>\n",
       "      <th>y_skew</th>\n",
       "      <th>y_mode</th>\n",
       "      <th>速度_max</th>\n",
       "      <th>速度_min</th>\n",
       "      <th>速度_mean</th>\n",
       "      <th>速度_median</th>\n",
       "      <th>速度_std</th>\n",
       "      <th>速度_skew</th>\n",
       "      <th>速度_mode</th>\n",
       "    </tr>\n",
       "  </thead>\n",
       "  <tbody>\n",
       "    <tr>\n",
       "      <th>1</th>\n",
       "      <td>0</td>\n",
       "      <td>6.151230e+06</td>\n",
       "      <td>5.125218e+06</td>\n",
       "      <td>2.70</td>\n",
       "      <td>113</td>\n",
       "      <td>0</td>\n",
       "      <td>6.152038e+06</td>\n",
       "      <td>6.118352e+06</td>\n",
       "      <td>6.119351e+06</td>\n",
       "      <td>6.118352e+06</td>\n",
       "      <td>5037.320747</td>\n",
       "      <td>5.255558</td>\n",
       "      <td>NaN</td>\n",
       "      <td>5.130781e+06</td>\n",
       "      <td>5.124873e+06</td>\n",
       "      <td>5.130494e+06</td>\n",
       "      <td>5.130672e+06</td>\n",
       "      <td>850.264541</td>\n",
       "      <td>-4.762308</td>\n",
       "      <td>NaN</td>\n",
       "      <td>9.39</td>\n",
       "      <td>0.0</td>\n",
       "      <td>0.265966</td>\n",
       "      <td>0.0</td>\n",
       "      <td>1.321248</td>\n",
       "      <td>5.520205</td>\n",
       "      <td>NaN</td>\n",
       "    </tr>\n",
       "    <tr>\n",
       "      <th>2</th>\n",
       "      <td>0</td>\n",
       "      <td>6.150421e+06</td>\n",
       "      <td>5.125563e+06</td>\n",
       "      <td>2.70</td>\n",
       "      <td>116</td>\n",
       "      <td>0</td>\n",
       "      <td>6.152038e+06</td>\n",
       "      <td>6.118352e+06</td>\n",
       "      <td>6.119351e+06</td>\n",
       "      <td>6.118352e+06</td>\n",
       "      <td>5037.320747</td>\n",
       "      <td>5.255558</td>\n",
       "      <td>NaN</td>\n",
       "      <td>5.130781e+06</td>\n",
       "      <td>5.124873e+06</td>\n",
       "      <td>5.130494e+06</td>\n",
       "      <td>5.130672e+06</td>\n",
       "      <td>850.264541</td>\n",
       "      <td>-4.762308</td>\n",
       "      <td>NaN</td>\n",
       "      <td>9.39</td>\n",
       "      <td>0.0</td>\n",
       "      <td>0.265966</td>\n",
       "      <td>0.0</td>\n",
       "      <td>1.321248</td>\n",
       "      <td>5.520205</td>\n",
       "      <td>NaN</td>\n",
       "    </tr>\n",
       "    <tr>\n",
       "      <th>3</th>\n",
       "      <td>0</td>\n",
       "      <td>6.149612e+06</td>\n",
       "      <td>5.125907e+06</td>\n",
       "      <td>3.29</td>\n",
       "      <td>95</td>\n",
       "      <td>0</td>\n",
       "      <td>6.152038e+06</td>\n",
       "      <td>6.118352e+06</td>\n",
       "      <td>6.119351e+06</td>\n",
       "      <td>6.118352e+06</td>\n",
       "      <td>5037.320747</td>\n",
       "      <td>5.255558</td>\n",
       "      <td>NaN</td>\n",
       "      <td>5.130781e+06</td>\n",
       "      <td>5.124873e+06</td>\n",
       "      <td>5.130494e+06</td>\n",
       "      <td>5.130672e+06</td>\n",
       "      <td>850.264541</td>\n",
       "      <td>-4.762308</td>\n",
       "      <td>NaN</td>\n",
       "      <td>9.39</td>\n",
       "      <td>0.0</td>\n",
       "      <td>0.265966</td>\n",
       "      <td>0.0</td>\n",
       "      <td>1.321248</td>\n",
       "      <td>5.520205</td>\n",
       "      <td>NaN</td>\n",
       "    </tr>\n",
       "  </tbody>\n",
       "</table>\n",
       "</div>"
      ],
      "text/plain": [
       "   渔船ID             x             y    速度   方向  type         x_max  \\\n",
       "1     0  6.151230e+06  5.125218e+06  2.70  113     0  6.152038e+06   \n",
       "2     0  6.150421e+06  5.125563e+06  2.70  116     0  6.152038e+06   \n",
       "3     0  6.149612e+06  5.125907e+06  3.29   95     0  6.152038e+06   \n",
       "\n",
       "          x_min        x_mean      x_median        x_std    x_skew  x_mode  \\\n",
       "1  6.118352e+06  6.119351e+06  6.118352e+06  5037.320747  5.255558     NaN   \n",
       "2  6.118352e+06  6.119351e+06  6.118352e+06  5037.320747  5.255558     NaN   \n",
       "3  6.118352e+06  6.119351e+06  6.118352e+06  5037.320747  5.255558     NaN   \n",
       "\n",
       "          y_max         y_min        y_mean      y_median       y_std  \\\n",
       "1  5.130781e+06  5.124873e+06  5.130494e+06  5.130672e+06  850.264541   \n",
       "2  5.130781e+06  5.124873e+06  5.130494e+06  5.130672e+06  850.264541   \n",
       "3  5.130781e+06  5.124873e+06  5.130494e+06  5.130672e+06  850.264541   \n",
       "\n",
       "     y_skew  y_mode  速度_max  速度_min   速度_mean  速度_median    速度_std   速度_skew  \\\n",
       "1 -4.762308     NaN    9.39     0.0  0.265966        0.0  1.321248  5.520205   \n",
       "2 -4.762308     NaN    9.39     0.0  0.265966        0.0  1.321248  5.520205   \n",
       "3 -4.762308     NaN    9.39     0.0  0.265966        0.0  1.321248  5.520205   \n",
       "\n",
       "   速度_mode  \n",
       "1      NaN  \n",
       "2      NaN  \n",
       "3      NaN  "
      ]
     },
     "execution_count": 23,
     "metadata": {},
     "output_type": "execute_result"
    }
   ],
   "source": [
    "df_train_clean.head(3)"
   ]
  },
  {
   "cell_type": "code",
   "execution_count": 24,
   "metadata": {},
   "outputs": [],
   "source": [
    "X = df_train_clean.drop(['type', '渔船ID'], axis=1)\n",
    "y = df_train_clean['type']"
   ]
  },
  {
   "cell_type": "code",
   "execution_count": 25,
   "metadata": {},
   "outputs": [
    {
     "name": "stdout",
     "output_type": "stream",
     "text": [
      "0 val f1 0.9900348157883424\n"
     ]
    },
    {
     "ename": "KeyboardInterrupt",
     "evalue": "",
     "output_type": "error",
     "traceback": [
      "\u001b[1;31m---------------------------------------------------------------------------\u001b[0m",
      "\u001b[1;31mKeyboardInterrupt\u001b[0m                         Traceback (most recent call last)",
      "\u001b[1;32m<ipython-input-25-6feb97135065>\u001b[0m in \u001b[0;36m<module>\u001b[1;34m\u001b[0m\n\u001b[0;32m     11\u001b[0m \u001b[1;33m\u001b[0m\u001b[0m\n\u001b[0;32m     12\u001b[0m \u001b[1;32mfor\u001b[0m \u001b[0mindex\u001b[0m\u001b[1;33m,\u001b[0m \u001b[1;33m(\u001b[0m\u001b[0mtrain_idx\u001b[0m\u001b[1;33m,\u001b[0m \u001b[0mval_idx\u001b[0m\u001b[1;33m)\u001b[0m \u001b[1;32min\u001b[0m \u001b[0menumerate\u001b[0m\u001b[1;33m(\u001b[0m\u001b[0mfold\u001b[0m\u001b[1;33m.\u001b[0m\u001b[0msplit\u001b[0m\u001b[1;33m(\u001b[0m\u001b[0mX\u001b[0m\u001b[1;33m,\u001b[0m \u001b[0my\u001b[0m\u001b[1;33m)\u001b[0m\u001b[1;33m)\u001b[0m\u001b[1;33m:\u001b[0m\u001b[1;33m\u001b[0m\u001b[1;33m\u001b[0m\u001b[0m\n\u001b[1;32m---> 13\u001b[1;33m     \u001b[0mclf\u001b[0m\u001b[1;33m.\u001b[0m\u001b[0mfit\u001b[0m\u001b[1;33m(\u001b[0m\u001b[0mX\u001b[0m\u001b[1;33m.\u001b[0m\u001b[0miloc\u001b[0m\u001b[1;33m[\u001b[0m\u001b[0mtrain_idx\u001b[0m\u001b[1;33m]\u001b[0m\u001b[1;33m,\u001b[0m \u001b[0my\u001b[0m\u001b[1;33m.\u001b[0m\u001b[0miloc\u001b[0m\u001b[1;33m[\u001b[0m\u001b[0mtrain_idx\u001b[0m\u001b[1;33m]\u001b[0m\u001b[1;33m)\u001b[0m\u001b[1;33m\u001b[0m\u001b[1;33m\u001b[0m\u001b[0m\n\u001b[0m\u001b[0;32m     14\u001b[0m     \u001b[1;31m# val_pred = model.predict_proba(X.iloc[val_idx])\u001b[0m\u001b[1;33m\u001b[0m\u001b[1;33m\u001b[0m\u001b[1;33m\u001b[0m\u001b[0m\n\u001b[0;32m     15\u001b[0m     \u001b[0mval_pred\u001b[0m \u001b[1;33m=\u001b[0m \u001b[0mclf\u001b[0m\u001b[1;33m.\u001b[0m\u001b[0mpredict\u001b[0m\u001b[1;33m(\u001b[0m\u001b[0mX\u001b[0m\u001b[1;33m.\u001b[0m\u001b[0miloc\u001b[0m\u001b[1;33m[\u001b[0m\u001b[0mval_idx\u001b[0m\u001b[1;33m]\u001b[0m\u001b[1;33m)\u001b[0m\u001b[1;33m\u001b[0m\u001b[1;33m\u001b[0m\u001b[0m\n",
      "\u001b[1;32mE:\\Anaconda3\\lib\\site-packages\\xgboost\\sklearn.py\u001b[0m in \u001b[0;36mfit\u001b[1;34m(self, X, y, sample_weight, eval_set, eval_metric, early_stopping_rounds, verbose, xgb_model, sample_weight_eval_set, callbacks)\u001b[0m\n\u001b[0;32m    730\u001b[0m                               \u001b[0mevals_result\u001b[0m\u001b[1;33m=\u001b[0m\u001b[0mevals_result\u001b[0m\u001b[1;33m,\u001b[0m \u001b[0mobj\u001b[0m\u001b[1;33m=\u001b[0m\u001b[0mobj\u001b[0m\u001b[1;33m,\u001b[0m \u001b[0mfeval\u001b[0m\u001b[1;33m=\u001b[0m\u001b[0mfeval\u001b[0m\u001b[1;33m,\u001b[0m\u001b[1;33m\u001b[0m\u001b[1;33m\u001b[0m\u001b[0m\n\u001b[0;32m    731\u001b[0m                               \u001b[0mverbose_eval\u001b[0m\u001b[1;33m=\u001b[0m\u001b[0mverbose\u001b[0m\u001b[1;33m,\u001b[0m \u001b[0mxgb_model\u001b[0m\u001b[1;33m=\u001b[0m\u001b[0mxgb_model\u001b[0m\u001b[1;33m,\u001b[0m\u001b[1;33m\u001b[0m\u001b[1;33m\u001b[0m\u001b[0m\n\u001b[1;32m--> 732\u001b[1;33m                               callbacks=callbacks)\n\u001b[0m\u001b[0;32m    733\u001b[0m \u001b[1;33m\u001b[0m\u001b[0m\n\u001b[0;32m    734\u001b[0m         \u001b[0mself\u001b[0m\u001b[1;33m.\u001b[0m\u001b[0mobjective\u001b[0m \u001b[1;33m=\u001b[0m \u001b[0mxgb_options\u001b[0m\u001b[1;33m[\u001b[0m\u001b[1;34m\"objective\"\u001b[0m\u001b[1;33m]\u001b[0m\u001b[1;33m\u001b[0m\u001b[1;33m\u001b[0m\u001b[0m\n",
      "\u001b[1;32mE:\\Anaconda3\\lib\\site-packages\\xgboost\\training.py\u001b[0m in \u001b[0;36mtrain\u001b[1;34m(params, dtrain, num_boost_round, evals, obj, feval, maximize, early_stopping_rounds, evals_result, verbose_eval, xgb_model, callbacks, learning_rates)\u001b[0m\n\u001b[0;32m    214\u001b[0m                            \u001b[0mevals\u001b[0m\u001b[1;33m=\u001b[0m\u001b[0mevals\u001b[0m\u001b[1;33m,\u001b[0m\u001b[1;33m\u001b[0m\u001b[1;33m\u001b[0m\u001b[0m\n\u001b[0;32m    215\u001b[0m                            \u001b[0mobj\u001b[0m\u001b[1;33m=\u001b[0m\u001b[0mobj\u001b[0m\u001b[1;33m,\u001b[0m \u001b[0mfeval\u001b[0m\u001b[1;33m=\u001b[0m\u001b[0mfeval\u001b[0m\u001b[1;33m,\u001b[0m\u001b[1;33m\u001b[0m\u001b[1;33m\u001b[0m\u001b[0m\n\u001b[1;32m--> 216\u001b[1;33m                            xgb_model=xgb_model, callbacks=callbacks)\n\u001b[0m\u001b[0;32m    217\u001b[0m \u001b[1;33m\u001b[0m\u001b[0m\n\u001b[0;32m    218\u001b[0m \u001b[1;33m\u001b[0m\u001b[0m\n",
      "\u001b[1;32mE:\\Anaconda3\\lib\\site-packages\\xgboost\\training.py\u001b[0m in \u001b[0;36m_train_internal\u001b[1;34m(params, dtrain, num_boost_round, evals, obj, feval, xgb_model, callbacks)\u001b[0m\n\u001b[0;32m     72\u001b[0m         \u001b[1;31m# Skip the first update if it is a recovery step.\u001b[0m\u001b[1;33m\u001b[0m\u001b[1;33m\u001b[0m\u001b[1;33m\u001b[0m\u001b[0m\n\u001b[0;32m     73\u001b[0m         \u001b[1;32mif\u001b[0m \u001b[0mversion\u001b[0m \u001b[1;33m%\u001b[0m \u001b[1;36m2\u001b[0m \u001b[1;33m==\u001b[0m \u001b[1;36m0\u001b[0m\u001b[1;33m:\u001b[0m\u001b[1;33m\u001b[0m\u001b[1;33m\u001b[0m\u001b[0m\n\u001b[1;32m---> 74\u001b[1;33m             \u001b[0mbst\u001b[0m\u001b[1;33m.\u001b[0m\u001b[0mupdate\u001b[0m\u001b[1;33m(\u001b[0m\u001b[0mdtrain\u001b[0m\u001b[1;33m,\u001b[0m \u001b[0mi\u001b[0m\u001b[1;33m,\u001b[0m \u001b[0mobj\u001b[0m\u001b[1;33m)\u001b[0m\u001b[1;33m\u001b[0m\u001b[1;33m\u001b[0m\u001b[0m\n\u001b[0m\u001b[0;32m     75\u001b[0m             \u001b[0mbst\u001b[0m\u001b[1;33m.\u001b[0m\u001b[0msave_rabit_checkpoint\u001b[0m\u001b[1;33m(\u001b[0m\u001b[1;33m)\u001b[0m\u001b[1;33m\u001b[0m\u001b[1;33m\u001b[0m\u001b[0m\n\u001b[0;32m     76\u001b[0m             \u001b[0mversion\u001b[0m \u001b[1;33m+=\u001b[0m \u001b[1;36m1\u001b[0m\u001b[1;33m\u001b[0m\u001b[1;33m\u001b[0m\u001b[0m\n",
      "\u001b[1;32mE:\\Anaconda3\\lib\\site-packages\\xgboost\\core.py\u001b[0m in \u001b[0;36mupdate\u001b[1;34m(self, dtrain, iteration, fobj)\u001b[0m\n\u001b[0;32m   1107\u001b[0m         \u001b[1;32mif\u001b[0m \u001b[0mfobj\u001b[0m \u001b[1;32mis\u001b[0m \u001b[1;32mNone\u001b[0m\u001b[1;33m:\u001b[0m\u001b[1;33m\u001b[0m\u001b[1;33m\u001b[0m\u001b[0m\n\u001b[0;32m   1108\u001b[0m             _check_call(_LIB.XGBoosterUpdateOneIter(self.handle, ctypes.c_int(iteration),\n\u001b[1;32m-> 1109\u001b[1;33m                                                     dtrain.handle))\n\u001b[0m\u001b[0;32m   1110\u001b[0m         \u001b[1;32melse\u001b[0m\u001b[1;33m:\u001b[0m\u001b[1;33m\u001b[0m\u001b[1;33m\u001b[0m\u001b[0m\n\u001b[0;32m   1111\u001b[0m             \u001b[0mpred\u001b[0m \u001b[1;33m=\u001b[0m \u001b[0mself\u001b[0m\u001b[1;33m.\u001b[0m\u001b[0mpredict\u001b[0m\u001b[1;33m(\u001b[0m\u001b[0mdtrain\u001b[0m\u001b[1;33m)\u001b[0m\u001b[1;33m\u001b[0m\u001b[1;33m\u001b[0m\u001b[0m\n",
      "\u001b[1;31mKeyboardInterrupt\u001b[0m: "
     ]
    }
   ],
   "source": [
    "clf = xgb.XGBClassifier(max_depth=6, \n",
    "                          learning_rate=0.01, \n",
    "                          n_estimators=1000, \n",
    "                          objective='multi:softmax',\n",
    "                          n_jobs=6, \n",
    "                          )\n",
    "\n",
    "\n",
    "fold = StratifiedKFold(n_splits=6, shuffle=True, random_state=42)\n",
    "models = []\n",
    "\n",
    "for index, (train_idx, val_idx) in enumerate(fold.split(X, y)):\n",
    "    clf.fit(X.iloc[train_idx], y.iloc[train_idx])\n",
    "    # val_pred = model.predict_proba(X.iloc[val_idx])\n",
    "    val_pred = clf.predict(X.iloc[val_idx])\n",
    "    val_y = y.iloc[val_idx]\n",
    "    print(index, 'val f1', metrics.f1_score(val_y, val_pred, average='macro'))"
   ]
  },
  {
   "cell_type": "code",
   "execution_count": null,
   "metadata": {},
   "outputs": [],
   "source": []
  }
 ],
 "metadata": {
  "kernelspec": {
   "display_name": "Python 3",
   "language": "python",
   "name": "python3"
  },
  "language_info": {
   "codemirror_mode": {
    "name": "ipython",
    "version": 3
   },
   "file_extension": ".py",
   "mimetype": "text/x-python",
   "name": "python",
   "nbconvert_exporter": "python",
   "pygments_lexer": "ipython3",
   "version": "3.7.4"
  }
 },
 "nbformat": 4,
 "nbformat_minor": 4
}

{
 "cells": [
  {
   "cell_type": "code",
   "execution_count": 28,
   "metadata": {},
   "outputs": [],
   "source": [
    "import re\n",
    "import sys"
   ]
  },
  {
   "cell_type": "markdown",
   "metadata": {},
   "source": [
    "## 标记数据处理"
   ]
  },
  {
   "cell_type": "code",
   "execution_count": 68,
   "metadata": {},
   "outputs": [],
   "source": [
    "file = \"biaoji.txt\"\n",
    "\n",
    "all_ner_data = []\n",
    "with open(file, encoding=\"utf-8\") as f:\n",
    "    for s in f.readlines():\n",
    "        s = s.strip('\\n')\n",
    "        ner_data = []\n",
    "        result_1 = re.finditer(r'\\[\\@', s)\n",
    "        result_2 = re.finditer(r'\\*\\]', s)\n",
    "        begin = []\n",
    "        end = []\n",
    "        for each in result_1:\n",
    "            begin.append(each.start())\n",
    "        for each in result_2:\n",
    "            end.append(each.end())\n",
    "        assert len(begin) == len(end)\n",
    "        i = 0\n",
    "        j = 0\n",
    "        while i < len(s):\n",
    "            if i not in begin:\n",
    "                ner_data.append([s[i], 'O'])\n",
    "                i = i + 1\n",
    "            else:\n",
    "                ann = s[i + 2:end[j] - 2]\n",
    "                entity, ner = ann.rsplit('#')\n",
    "                if (len(entity) == 1):\n",
    "                    ner_data.append([entity, 'S-' + ner])\n",
    "                else:\n",
    "                    if (len(entity) == 2):\n",
    "                        ner_data.append([entity[0], 'B-' + ner])\n",
    "                        ner_data.append([entity[1], 'E-' + ner])\n",
    "                    else:\n",
    "                        ner_data.append([entity[0], 'B-' + ner])\n",
    "                        for n in range(1, len(entity) - 1):\n",
    "                            ner_data.append([entity[n], 'I-' + ner])\n",
    "                        ner_data.append([entity[-1], 'E-' + ner])\n",
    "        \n",
    "                i = end[j]\n",
    "                j = j + 1\n",
    "        all_ner_data.append(ner_data)\n",
    "f.close()"
   ]
  },
  {
   "cell_type": "code",
   "execution_count": 54,
   "metadata": {},
   "outputs": [
    {
     "data": {
      "text/plain": [
       "[['上', 'B-Location'],\n",
       " ['海', 'E-Location'],\n",
       " ['今', 'O'],\n",
       " ['天', 'O'],\n",
       " ['的', 'O'],\n",
       " ['天', 'O'],\n",
       " ['气', 'O'],\n",
       " ['怎', 'O'],\n",
       " ['么', 'O'],\n",
       " ['样', 'O']]"
      ]
     },
     "execution_count": 54,
     "metadata": {},
     "output_type": "execute_result"
    }
   ],
   "source": [
    "all_ner_data[0]"
   ]
  },
  {
   "cell_type": "code",
   "execution_count": 55,
   "metadata": {},
   "outputs": [],
   "source": [
    "all_ner_data_list = []\n",
    "for seq_list in all_ner_data:\n",
    "    zi = []\n",
    "    mark = []\n",
    "    for zi_mark in seq_list:\n",
    "        zi.append(zi_mark[0])\n",
    "        mark.append(zi_mark[1])\n",
    "        seq_tuple = (zi, mark)\n",
    "    all_ner_data_list.append(seq_tuple)"
   ]
  },
  {
   "cell_type": "code",
   "execution_count": 56,
   "metadata": {},
   "outputs": [
    {
     "data": {
      "text/plain": [
       "[(['上', '海', '今', '天', '的', '天', '气', '怎', '么', '样'],\n",
       "  ['B-Location', 'E-Location', 'O', 'O', 'O', 'O', 'O', 'O', 'O', 'O']),\n",
       " (['杭', '州', '今', '天', '有', '点', '下', '雨'],\n",
       "  ['B-Location', 'E-Location', 'O', 'O', 'O', 'O', 'O', 'O']),\n",
       " (['昨', '天', '成', '都', '出', '太', '阳', '了'],\n",
       "  ['O', 'O', 'B-Location', 'E-Location', 'O', 'O', 'O', 'O']),\n",
       " (['今', '年', '北', '京', '的', '空', '气', '不', '太', '好'],\n",
       "  ['O', 'O', 'B-Location', 'E-Location', 'O', 'O', 'O', 'O', 'O', 'O']),\n",
       " (['冬', '天', '的', '哈', '尔', '滨', '冰', '天', '雪', '地'],\n",
       "  ['O',\n",
       "   'O',\n",
       "   'O',\n",
       "   'B-Location',\n",
       "   'I-Location',\n",
       "   'E-Location',\n",
       "   'O',\n",
       "   'O',\n",
       "   'O',\n",
       "   'O']),\n",
       " (['武', '汉', '有', '很', '多', '樱', '花', '树'],\n",
       "  ['B-Location', 'E-Location', 'O', 'O', 'O', 'O', 'O', 'O']),\n",
       " (['金', '华', '生', '产', '的', '火', '腿', '很', '出', '名'],\n",
       "  ['B-Location', 'E-Location', 'O', 'O', 'O', 'O', 'O', 'O', 'O', 'O']),\n",
       " (['上', '海', '在', '地', '图', '上', '紧', '挨', '着', '杭', '州'],\n",
       "  ['B-Location',\n",
       "   'E-Location',\n",
       "   'O',\n",
       "   'O',\n",
       "   'O',\n",
       "   'O',\n",
       "   'O',\n",
       "   'O',\n",
       "   'O',\n",
       "   'B-Location',\n",
       "   'E-Location']),\n",
       " (['海', '南', '岛', '在', '冬', '天', '里', '面', '也', '很', '热'],\n",
       "  ['B-Location',\n",
       "   'I-Location',\n",
       "   'E-Location',\n",
       "   'O',\n",
       "   'O',\n",
       "   'O',\n",
       "   'O',\n",
       "   'O',\n",
       "   'O',\n",
       "   'O',\n",
       "   'O'])]"
      ]
     },
     "execution_count": 56,
     "metadata": {},
     "output_type": "execute_result"
    }
   ],
   "source": [
    "all_ner_data_list"
   ]
  },
  {
   "cell_type": "markdown",
   "metadata": {},
   "source": [
    "## 训练"
   ]
  },
  {
   "cell_type": "code",
   "execution_count": 57,
   "metadata": {},
   "outputs": [],
   "source": [
    "\"\"\"\n",
    "pytorch实现BiLSTM+CRF用于NER(命名实体识别)\n",
    "https://blog.csdn.net/zycxnanwang/article/details/90385259\n",
    "https://pytorch.org/tutorials/beginner/nlp/advanced_tutorial.html#bi-lstm-conditional-random-field-discussion\n",
    "\"\"\"\n",
    "\n",
    "import torch\n",
    "import torch.nn as nn\n",
    "import torch.optim as optim\n",
    "# START_TAG = \"<START>\"\n",
    "# STOP_TAG = \"<STOP>\"\n",
    "# EMBEDDING_DIM = 5\n",
    "# HIDDEN_DIM = 4\n",
    "# torch.manual_seed(1)\n",
    "\n",
    "def prepare_sequence(seq, to_ix):\n",
    "    \"\"\"句子转index\"\"\"\n",
    "    idxs = [to_ix[w] for w in seq]\n",
    "    return torch.tensor(idxs, dtype=torch.long)\n",
    "\n",
    "class BiLSTM_CRF(nn.Module):\n",
    "\n",
    "    def __init__(self, vocab_size, tag_to_ix, embedding_dim, hidden_dim):\n",
    "        super(BiLSTM_CRF, self).__init__()\n",
    "        self.embedding_dim = embedding_dim\n",
    "        self.hidden_dim = hidden_dim\n",
    "        self.vocab_size = vocab_size\n",
    "        self.tag_to_ix = tag_to_ix\n",
    "        self.tagset_size = len(tag_to_ix)\n",
    "        \n",
    "        print(\"embedding_dim\", embedding_dim)\n",
    "        print(\"hidden_dim\", hidden_dim)\n",
    "        self.word_embeds = nn.Embedding(vocab_size, embedding_dim)\n",
    "        self.lstm = nn.LSTM(embedding_dim, hidden_dim // 2,\n",
    "                            num_layers=1, bidirectional=True)\n",
    "\n",
    "        # Maps the output of the LSTM into tag space.\n",
    "        self.hidden2tag = nn.Linear(hidden_dim, self.tagset_size)\n",
    "\n",
    "        # Matrix of transition parameters.  Entry i,j is the score of\n",
    "        # transitioning *to* i *from* j.\n",
    "        # 转移概率矩阵\n",
    "        self.transitions = nn.Parameter(\n",
    "            torch.randn(self.tagset_size, self.tagset_size))\n",
    "\n",
    "        # These two statements enforce the constraint that we never transfer\n",
    "        # to the start tag and we never transfer from the stop tag\n",
    "        self.transitions.data[tag_to_ix[START_TAG], :] = -10000\n",
    "        self.transitions.data[:, tag_to_ix[STOP_TAG]] = -10000\n",
    "\n",
    "        self.hidden = self.init_hidden()\n",
    "\n",
    "    def init_hidden(self):\n",
    "        \"\"\"初始隐藏状态\"\"\"\n",
    "        return (torch.randn(2, 1, self.hidden_dim // 2),\n",
    "                torch.randn(2, 1, self.hidden_dim // 2))\n",
    "\n",
    "    def _forward_alg(self, feats):\n",
    "        # Do the forward algorithm to compute the partition function\n",
    "        init_alphas = torch.full([self.tagset_size], -10000.)\n",
    "        # START_TAG has all of the score.\n",
    "        init_alphas[self.tag_to_ix[START_TAG]] = 0.\n",
    "\n",
    "        # Wrap in a variable so that we will get automatic backprop\n",
    "        # Iterate through the sentence\n",
    "        forward_var_list=[]\n",
    "        forward_var_list.append(init_alphas)\n",
    "        for feat_index in range(feats.shape[0]):\n",
    "            gamar_r_l = torch.stack([forward_var_list[feat_index]] * feats.shape[1])\n",
    "            t_r1_k = torch.unsqueeze(feats[feat_index],0).transpose(0,1)\n",
    "            aa = gamar_r_l + t_r1_k + self.transitions\n",
    "            forward_var_list.append(torch.logsumexp(aa,dim=1))\n",
    "        terminal_var = forward_var_list[-1] + self.transitions[self.tag_to_ix[STOP_TAG]]\n",
    "        terminal_var = torch.unsqueeze(terminal_var,0)\n",
    "        alpha = torch.logsumexp(terminal_var, dim=1)[0]\n",
    "        return alpha\n",
    "\n",
    "    def _get_lstm_features(self, sentence):\n",
    "        self.hidden = self.init_hidden()\n",
    "        embeds = self.word_embeds(sentence).view(len(sentence), 1, -1)\n",
    "        # print(\"embeds\", embeds)\n",
    "        # 打印了embeds，确实每个字和EMBEDDING_DIM匹配\n",
    "        lstm_out, self.hidden = self.lstm(embeds, self.hidden)\n",
    "        lstm_out = lstm_out.view(len(sentence), self.hidden_dim)\n",
    "        # print(\"lstm_out:\", lstm_out)\n",
    "        lstm_feats = self.hidden2tag(lstm_out)  # 过一个线形层\n",
    "        return lstm_feats\n",
    "\n",
    "    def _score_sentence(self, feats, tags):\n",
    "        # Gives the score of a provided tag sequence\n",
    "        score = torch.zeros(1)\n",
    "        tags = torch.cat([torch.tensor([self.tag_to_ix[START_TAG]], dtype=torch.long), tags])\n",
    "        for i, feat in enumerate(feats):\n",
    "            score = score + \\\n",
    "                self.transitions[tags[i + 1], tags[i]] + feat[tags[i + 1]]\n",
    "        score = score + self.transitions[self.tag_to_ix[STOP_TAG], tags[-1]]\n",
    "        return score\n",
    "\n",
    "    def _viterbi_decode(self, feats):\n",
    "        \"\"\"维特比算法\"\"\"\n",
    "        backpointers = []\n",
    "        # Initialize the viterbi variables in log space\n",
    "        init_vvars = torch.full((1, self.tagset_size), -10000.)\n",
    "        init_vvars[0][self.tag_to_ix[START_TAG]] = 0\n",
    "\n",
    "        # forward_var at step i holds the viterbi variables for step i-1\n",
    "        forward_var_list = []\n",
    "        forward_var_list.append(init_vvars)\n",
    "\n",
    "        for feat_index in range(feats.shape[0]):\n",
    "            gamar_r_l = torch.stack([forward_var_list[feat_index]] * feats.shape[1])\n",
    "            gamar_r_l = torch.squeeze(gamar_r_l)\n",
    "            next_tag_var = gamar_r_l + self.transitions\n",
    "            viterbivars_t,bptrs_t = torch.max(next_tag_var,dim=1)\n",
    "\n",
    "            t_r1_k = torch.unsqueeze(feats[feat_index], 0)\n",
    "            forward_var_new = torch.unsqueeze(viterbivars_t,0) + t_r1_k\n",
    "\n",
    "            forward_var_list.append(forward_var_new)\n",
    "            backpointers.append(bptrs_t.tolist())\n",
    "\n",
    "        # Transition to STOP_TAG\n",
    "        terminal_var = forward_var_list[-1] + self.transitions[self.tag_to_ix[STOP_TAG]]\n",
    "        best_tag_id = torch.argmax(terminal_var).tolist()\n",
    "        path_score = terminal_var[0][best_tag_id]\n",
    "\n",
    "        # Follow the back pointers to decode the best path.\n",
    "        best_path = [best_tag_id]\n",
    "        for bptrs_t in reversed(backpointers):\n",
    "            best_tag_id = bptrs_t[best_tag_id]\n",
    "            best_path.append(best_tag_id)\n",
    "        # Pop off the start tag (we dont want to return that to the caller)\n",
    "        start = best_path.pop()\n",
    "        assert start == self.tag_to_ix[START_TAG]  # Sanity check\n",
    "        best_path.reverse()\n",
    "        return path_score, best_path\n",
    "\n",
    "\n",
    "    def neg_log_likelihood(self, sentence, tags):\n",
    "        feats = self._get_lstm_features(sentence)\n",
    "        forward_score = self._forward_alg(feats)\n",
    "        gold_score = self._score_sentence(feats, tags)\n",
    "        return forward_score - gold_score\n",
    "\n",
    "    def forward(self, sentence):  \n",
    "        \"\"\"\n",
    "        输出，每个字的tag概率\n",
    "        \n",
    "        tag包括了BIO，以及<START><STOP>所以是5维\n",
    "        \"\"\"\n",
    "        # dont confuse this with _forward_alg above.\n",
    "        # Get the emission scores from the BiLSTM\n",
    "        lstm_feats = self._get_lstm_features(sentence)\n",
    "        # print(lstm_feats)\n",
    "        # print(lstm_feats.shape)\n",
    "        # Find the best path, given the features.\n",
    "        score, tag_seq = self._viterbi_decode(lstm_feats)\n",
    "        return score, tag_seq"
   ]
  },
  {
   "cell_type": "code",
   "execution_count": 58,
   "metadata": {},
   "outputs": [],
   "source": [
    "START_TAG = \"<START>\"\n",
    "STOP_TAG = \"<STOP>\"\n",
    "EMBEDDING_DIM = 20\n",
    "HIDDEN_DIM = 64\n",
    "\n",
    "training_data = all_ner_data_list"
   ]
  },
  {
   "cell_type": "code",
   "execution_count": 59,
   "metadata": {},
   "outputs": [
    {
     "data": {
      "text/plain": [
       "['武', '汉', '今', '天', '下', '雨']"
      ]
     },
     "execution_count": 59,
     "metadata": {},
     "output_type": "execute_result"
    }
   ],
   "source": [
    "test_data = \"武 汉 今 天 下 雨\".split()\n",
    "test_data"
   ]
  },
  {
   "cell_type": "code",
   "execution_count": 60,
   "metadata": {},
   "outputs": [],
   "source": [
    "def check_mark(training_data):\n",
    "    \"\"\"检查标记数目和字是否对应\"\"\"\n",
    "    for pair in training_data:\n",
    "        if len(pair[1]) == len(pair[0]):\n",
    "            print(\"PASS!\")\n",
    "        else:\n",
    "            print(pair[0], \"标记错误\")"
   ]
  },
  {
   "cell_type": "code",
   "execution_count": 61,
   "metadata": {},
   "outputs": [
    {
     "name": "stdout",
     "output_type": "stream",
     "text": [
      "PASS!\n",
      "PASS!\n",
      "PASS!\n",
      "PASS!\n",
      "PASS!\n",
      "PASS!\n",
      "PASS!\n",
      "PASS!\n",
      "PASS!\n"
     ]
    }
   ],
   "source": [
    "check_mark(training_data)"
   ]
  },
  {
   "cell_type": "markdown",
   "metadata": {},
   "source": [
    "### 构建 单词 到 索引 的字典"
   ]
  },
  {
   "cell_type": "code",
   "execution_count": 65,
   "metadata": {},
   "outputs": [],
   "source": [
    "# 构建 字 到 索引 的字典\n",
    "word_to_ix = {}\n",
    "for sentence, tags in training_data:\n",
    "    for word in sentence:\n",
    "        if word not in word_to_ix:\n",
    "            word_to_ix[word] = len(word_to_ix)\n",
    "\n",
    "# 构建 tag 到 索引 的字典\n",
    "tag_to_ix = {\"B-Location\": 0, \"I-Location\": 1, \"E-Location\": 2, \"O\":3, START_TAG: 4, STOP_TAG: 5}\n",
    "ix_to_tag = { 0:\"B-Location\", 1:\"I-Location\", 2:\"E-Location\", 3:\"O\"}"
   ]
  },
  {
   "cell_type": "code",
   "execution_count": 66,
   "metadata": {},
   "outputs": [
    {
     "name": "stdout",
     "output_type": "stream",
     "text": [
      "embedding_dim 20\n",
      "hidden_dim 64\n",
      "(tensor(8.7346), [2, 1, 3, 2, 1, 3, 2, 1, 3, 2])\n"
     ]
    }
   ],
   "source": [
    "# 构建模型\n",
    "model = BiLSTM_CRF(vocab_size=len(word_to_ix),  # 单词总数\n",
    "                   tag_to_ix=tag_to_ix,        # tag字典\n",
    "                   embedding_dim=EMBEDDING_DIM,    # 词嵌入维度\n",
    "                   hidden_dim=HIDDEN_DIM)       # 隐藏层\n",
    "# 随机梯度下降\n",
    "optimizer = optim.SGD(model.parameters(), lr=0.01, weight_decay=1e-4)  \n",
    "\n",
    "# Check predictions before training\n",
    "# 在训练前检查一下预测\n",
    "with torch.no_grad():\n",
    "    # 训练数据文本\n",
    "    precheck_sent = prepare_sequence(training_data[0][0], \n",
    "                                     word_to_ix)\n",
    "    # tags\n",
    "    precheck_tags = torch.tensor([tag_to_ix[t] for t in training_data[0][1]], dtype=torch.long)\n",
    "    print(model(precheck_sent))  # 返回score和标记序列"
   ]
  },
  {
   "cell_type": "code",
   "execution_count": 67,
   "metadata": {},
   "outputs": [
    {
     "name": "stdout",
     "output_type": "stream",
     "text": [
      "path score: tensor(28.9182)\n",
      "['武', '汉', '今', '天', '下', '雨']\n",
      "['B-Location', 'E-Location', 'O', 'O', 'O', 'O']\n"
     ]
    }
   ],
   "source": [
    "# Make sure prepare_sequence from earlier in the LSTM section is loaded\n",
    "for epoch in range(\n",
    "        100):  # again, normally you would NOT do 300 epochs, it is toy data\n",
    "    for sentence, tags in training_data:\n",
    "        # Step 1. Remember that Pytorch accumulates gradients.\n",
    "        # We need to clear them out before each instance\n",
    "        # 梯度归零\n",
    "        model.zero_grad()\n",
    "\n",
    "        # Step 2. Get our inputs ready for the network, that is,\n",
    "        # turn them into Tensors of word indices.\n",
    "        # \n",
    "        sentence_in = prepare_sequence(sentence, word_to_ix)\n",
    "        targets = torch.tensor([tag_to_ix[t] for t in tags], dtype=torch.long)\n",
    "\n",
    "        # Step 3. Run our forward pass.\n",
    "        loss = model.neg_log_likelihood(sentence_in, targets)\n",
    "\n",
    "        # Step 4. Compute the loss, gradients, and update the parameters by\n",
    "        # calling optimizer.step()\n",
    "        loss.backward()\n",
    "        optimizer.step()\n",
    "\n",
    "# Check predictions after training\n",
    "with torch.no_grad():\n",
    "    precheck_sent = prepare_sequence(test_data,  # 测试数据\n",
    "                                     word_to_ix)\n",
    "    score, tag_seq = model(precheck_sent)\n",
    "    print(\"path score:\", score)\n",
    "    print(test_data)\n",
    "    tag_list = []\n",
    "    for tag_index in tag_seq:\n",
    "        tag_list.append(ix_to_tag[tag_index])\n",
    "    print(tag_list)\n",
    "    # We got it!"
   ]
  },
  {
   "cell_type": "code",
   "execution_count": null,
   "metadata": {},
   "outputs": [],
   "source": []
  },
  {
   "cell_type": "code",
   "execution_count": null,
   "metadata": {},
   "outputs": [],
   "source": []
  },
  {
   "cell_type": "markdown",
   "metadata": {},
   "source": [
    "https://github.com/ThilinaRajapakse/pytorch-transformers-classification\n",
    "\n",
    "https://github.com/ThilinaRajapakse/pytorch-transformers-classification"
   ]
  },
  {
   "cell_type": "code",
   "execution_count": null,
   "metadata": {},
   "outputs": [],
   "source": []
  }
 ],
 "metadata": {
  "kernelspec": {
   "display_name": "Python 3",
   "language": "python",
   "name": "python3"
  },
  "language_info": {
   "codemirror_mode": {
    "name": "ipython",
    "version": 3
   },
   "file_extension": ".py",
   "mimetype": "text/x-python",
   "name": "python",
   "nbconvert_exporter": "python",
   "pygments_lexer": "ipython3",
   "version": "3.7.4"
  }
 },
 "nbformat": 4,
 "nbformat_minor": 2
}
